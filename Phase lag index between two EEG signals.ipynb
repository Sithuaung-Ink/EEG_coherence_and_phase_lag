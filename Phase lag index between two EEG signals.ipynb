{
 "cells": [
  {
   "cell_type": "code",
   "execution_count": 1,
   "id": "c90ab496",
   "metadata": {},
   "outputs": [],
   "source": [
    "import numpy as np"
   ]
  },
  {
   "cell_type": "code",
   "execution_count": 9,
   "id": "d3913468",
   "metadata": {},
   "outputs": [],
   "source": [
    "def calculate_pli(signal1, signal2):\n",
    "    complex_signal1 = np.angle(signal1)\n",
    "    complex_signal2 = np.angle(signal2)\n",
    "    \n",
    "    delta_phase = np.angle(np.exp(1j * (complex_signal1 - complex_signal2)))\n",
    "    \n",
    "    # Refer to this paper for the equation PLI = |mean(sign(sin(Δθ)))| \"Phase Lag Index: Assessment of Functional connectivity\n",
    "    # From Multi Channel EEG and MEG with Diminished Bias From Common Sources\"\n",
    "    pli = np.abs(np.mean(np.sign(np.sin(delta_phase))))\n",
    "    \n",
    "    return pli"
   ]
  },
  {
   "cell_type": "code",
   "execution_count": 10,
   "id": "4601ce8e",
   "metadata": {},
   "outputs": [],
   "source": [
    "# Generate example EEG signals\n",
    "# Replace with real EEG signals\n",
    "fs = 1000  # Sampling frequency in Hz\n",
    "t = np.arange(0, 5, 1/fs)  # Time vector\n",
    "signal1 = np.sin(2 * np.pi * 10 * t) + 0.5 * np.random.randn(len(t))\n",
    "signal2 = np.sin(2 * np.pi * 10 * t + np.pi/4) + 0.5 * np.random.randn(len(t))"
   ]
  },
  {
   "cell_type": "code",
   "execution_count": 11,
   "id": "a0d0a1d1",
   "metadata": {},
   "outputs": [],
   "source": [
    "# Calculate PLI\n",
    "pli = calculate_pli(signal1, signal2)"
   ]
  },
  {
   "cell_type": "code",
   "execution_count": 12,
   "id": "401eefaf",
   "metadata": {},
   "outputs": [
    {
     "name": "stdout",
     "output_type": "stream",
     "text": [
      "Phase Lag Index: 0.0024\n"
     ]
    }
   ],
   "source": [
    "print(\"Phase Lag Index:\", pli)"
   ]
  },
  {
   "cell_type": "code",
   "execution_count": null,
   "id": "01332313",
   "metadata": {},
   "outputs": [],
   "source": []
  }
 ],
 "metadata": {
  "kernelspec": {
   "display_name": "Python 3 (ipykernel)",
   "language": "python",
   "name": "python3"
  },
  "language_info": {
   "codemirror_mode": {
    "name": "ipython",
    "version": 3
   },
   "file_extension": ".py",
   "mimetype": "text/x-python",
   "name": "python",
   "nbconvert_exporter": "python",
   "pygments_lexer": "ipython3",
   "version": "3.9.13"
  }
 },
 "nbformat": 4,
 "nbformat_minor": 5
}
